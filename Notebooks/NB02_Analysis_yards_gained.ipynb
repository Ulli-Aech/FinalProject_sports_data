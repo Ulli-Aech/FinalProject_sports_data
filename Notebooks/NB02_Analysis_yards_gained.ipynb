{
 "cells": [
  {
   "cell_type": "markdown",
   "metadata": {},
   "source": [
    "### Getting started "
   ]
  },
  {
   "cell_type": "code",
   "execution_count": 2,
   "metadata": {},
   "outputs": [],
   "source": [
    "import pandas as pd\n",
    "import numpy as np\n",
    "import matplotlib.pyplot as plt\n",
    "import seaborn as sns\n",
    "from datetime import datetime as dt\n",
    "%matplotlib inline"
   ]
  },
  {
   "cell_type": "code",
   "execution_count": 3,
   "metadata": {},
   "outputs": [],
   "source": [
    "#reading cleaned dataset\n",
    "\n",
    "train_01 = pd.read_csv('../Data/train_clean.csv')"
   ]
  },
  {
   "cell_type": "markdown",
   "metadata": {},
   "source": [
    "## Data Preprocessing\n",
    "\n",
    "### Feature creation\n",
    "\n",
    "#### Hypothesis: yards gained by running play or passing play impacts outcome of the game? \n",
    "Looking at the yards gained per running play vs. passing play \n",
    "- number of running plays vs passing plays\n",
    "- percentage running plays vs passing plays \n",
    "- is there a difference in home and away team?\n",
    "- average over all years and games, teams \n",
    "- percentages per team per game \n",
    "- compare averages of each team, per game with the general average \n"
   ]
  },
  {
   "cell_type": "code",
   "execution_count": 4,
   "metadata": {},
   "outputs": [],
   "source": [
    "# splitting DF into data of home team and data of away team\n",
    "home = train_01.loc[train_01['posteam_type'] == 'home']\n",
    "away = train_01.loc[train_01['posteam_type'] == 'away']\n",
    "\n",
    "# filtering for running plays and passing plays \n",
    "away = away[['game_id','game_date','play_id','play_type','yards_gained']]\n",
    "away_run = away.loc[away['play_type'] == 'run']\n",
    "away_pass = away.loc[away['play_type'] == 'pass']\n",
    "\n",
    "home = home[['game_id','game_date','play_id','play_type','yards_gained']]\n",
    "home_run = home.loc[home['play_type'] == 'run']\n",
    "home_pass = home.loc[home['play_type'] == 'pass']"
   ]
  },
  {
   "cell_type": "code",
   "execution_count": 5,
   "metadata": {},
   "outputs": [
    {
     "data": {
      "text/html": [
       "<div>\n",
       "<style scoped>\n",
       "    .dataframe tbody tr th:only-of-type {\n",
       "        vertical-align: middle;\n",
       "    }\n",
       "\n",
       "    .dataframe tbody tr th {\n",
       "        vertical-align: top;\n",
       "    }\n",
       "\n",
       "    .dataframe thead th {\n",
       "        text-align: right;\n",
       "    }\n",
       "</style>\n",
       "<table border=\"1\" class=\"dataframe\">\n",
       "  <thead>\n",
       "    <tr style=\"text-align: right;\">\n",
       "      <th></th>\n",
       "      <th>game_date</th>\n",
       "      <th>game_id</th>\n",
       "      <th>play_id</th>\n",
       "      <th>yards_gained</th>\n",
       "    </tr>\n",
       "  </thead>\n",
       "  <tbody>\n",
       "    <tr>\n",
       "      <th>0</th>\n",
       "      <td>2009-09-10</td>\n",
       "      <td>2009091000</td>\n",
       "      <td>49568</td>\n",
       "      <td>86.0</td>\n",
       "    </tr>\n",
       "    <tr>\n",
       "      <th>1</th>\n",
       "      <td>2009-09-13</td>\n",
       "      <td>2009091300</td>\n",
       "      <td>38952</td>\n",
       "      <td>96.0</td>\n",
       "    </tr>\n",
       "    <tr>\n",
       "      <th>2</th>\n",
       "      <td>2009-09-13</td>\n",
       "      <td>2009091301</td>\n",
       "      <td>30068</td>\n",
       "      <td>29.0</td>\n",
       "    </tr>\n",
       "    <tr>\n",
       "      <th>3</th>\n",
       "      <td>2009-09-13</td>\n",
       "      <td>2009091302</td>\n",
       "      <td>74682</td>\n",
       "      <td>186.0</td>\n",
       "    </tr>\n",
       "    <tr>\n",
       "      <th>4</th>\n",
       "      <td>2009-09-13</td>\n",
       "      <td>2009091303</td>\n",
       "      <td>36600</td>\n",
       "      <td>75.0</td>\n",
       "    </tr>\n",
       "    <tr>\n",
       "      <th>...</th>\n",
       "      <td>...</td>\n",
       "      <td>...</td>\n",
       "      <td>...</td>\n",
       "      <td>...</td>\n",
       "    </tr>\n",
       "    <tr>\n",
       "      <th>1786</th>\n",
       "      <td>2016-01-03</td>\n",
       "      <td>2016010311</td>\n",
       "      <td>43486</td>\n",
       "      <td>69.0</td>\n",
       "    </tr>\n",
       "    <tr>\n",
       "      <th>1787</th>\n",
       "      <td>2016-01-03</td>\n",
       "      <td>2016010312</td>\n",
       "      <td>45002</td>\n",
       "      <td>77.0</td>\n",
       "    </tr>\n",
       "    <tr>\n",
       "      <th>1788</th>\n",
       "      <td>2016-01-03</td>\n",
       "      <td>2016010313</td>\n",
       "      <td>54259</td>\n",
       "      <td>110.0</td>\n",
       "    </tr>\n",
       "    <tr>\n",
       "      <th>1789</th>\n",
       "      <td>2016-01-03</td>\n",
       "      <td>2016010314</td>\n",
       "      <td>70234</td>\n",
       "      <td>147.0</td>\n",
       "    </tr>\n",
       "    <tr>\n",
       "      <th>1790</th>\n",
       "      <td>2016-01-03</td>\n",
       "      <td>2016010315</td>\n",
       "      <td>78250</td>\n",
       "      <td>133.0</td>\n",
       "    </tr>\n",
       "  </tbody>\n",
       "</table>\n",
       "<p>1791 rows × 4 columns</p>\n",
       "</div>"
      ],
      "text/plain": [
       "       game_date     game_id  play_id  yards_gained\n",
       "0     2009-09-10  2009091000    49568          86.0\n",
       "1     2009-09-13  2009091300    38952          96.0\n",
       "2     2009-09-13  2009091301    30068          29.0\n",
       "3     2009-09-13  2009091302    74682         186.0\n",
       "4     2009-09-13  2009091303    36600          75.0\n",
       "...          ...         ...      ...           ...\n",
       "1786  2016-01-03  2016010311    43486          69.0\n",
       "1787  2016-01-03  2016010312    45002          77.0\n",
       "1788  2016-01-03  2016010313    54259         110.0\n",
       "1789  2016-01-03  2016010314    70234         147.0\n",
       "1790  2016-01-03  2016010315    78250         133.0\n",
       "\n",
       "[1791 rows x 4 columns]"
      ]
     },
     "execution_count": 5,
     "metadata": {},
     "output_type": "execute_result"
    }
   ],
   "source": [
    "# aggregating the yards gained per game for all running plays of the away team \n",
    "away_run_sum = away_run.groupby(['game_date', 'game_id'], as_index = False).sum()\n",
    "away_run_sum"
   ]
  },
  {
   "cell_type": "code",
   "execution_count": 6,
   "metadata": {},
   "outputs": [],
   "source": [
    "# aggregating the yards gained per game for all passing plays of the away team \n",
    "away_pass_sum = away_pass.groupby(['game_date', 'game_id'], as_index = False).sum()"
   ]
  },
  {
   "cell_type": "code",
   "execution_count": 7,
   "metadata": {},
   "outputs": [],
   "source": [
    "# aggregating the yards gained per game for all running plays of the home team \n",
    "home_run_sum = home_run.groupby(['game_date', 'game_id'], as_index = False).sum()"
   ]
  },
  {
   "cell_type": "code",
   "execution_count": 8,
   "metadata": {},
   "outputs": [],
   "source": [
    "# aggregating the yards gained per game for all running plays of the away team \n",
    "home_pass_sum = home_pass.groupby(['game_date', 'game_id'], as_index = False).sum()"
   ]
  },
  {
   "cell_type": "markdown",
   "metadata": {},
   "source": [
    "### Calculating the percentage of running plays and passing plays in general\n",
    "\n",
    "Count of all running plays/ total count of all plays = percentage of running plays \n",
    "\n",
    "Count of all passing plays/ total count of all plays = percentage of passing plays \n"
   ]
  },
  {
   "cell_type": "code",
   "execution_count": 9,
   "metadata": {},
   "outputs": [
    {
     "data": {
      "text/plain": [
       "94373"
      ]
     },
     "execution_count": 9,
     "metadata": {},
     "output_type": "execute_result"
    }
   ],
   "source": [
    "total_running_plays = away_run.shape[0] + home_run.shape[0]\n",
    "total_running_plays"
   ]
  },
  {
   "cell_type": "code",
   "execution_count": 10,
   "metadata": {},
   "outputs": [
    {
     "data": {
      "text/plain": [
       "131228"
      ]
     },
     "execution_count": 10,
     "metadata": {},
     "output_type": "execute_result"
    }
   ],
   "source": [
    "total_passing_plays = away_pass.shape[0] + home_pass.shape[0]\n",
    "total_passing_plays"
   ]
  },
  {
   "cell_type": "code",
   "execution_count": 11,
   "metadata": {},
   "outputs": [
    {
     "data": {
      "text/plain": [
       "225601"
      ]
     },
     "execution_count": 11,
     "metadata": {},
     "output_type": "execute_result"
    }
   ],
   "source": [
    "total_plays = total_running_plays + total_passing_plays\n",
    "total_plays"
   ]
  },
  {
   "cell_type": "code",
   "execution_count": 12,
   "metadata": {},
   "outputs": [
    {
     "data": {
      "text/plain": [
       "0.41831818121373576"
      ]
     },
     "execution_count": 12,
     "metadata": {},
     "output_type": "execute_result"
    }
   ],
   "source": [
    "perc_run_plays = total_running_plays / total_plays\n",
    "perc_run_plays"
   ]
  },
  {
   "cell_type": "code",
   "execution_count": 13,
   "metadata": {},
   "outputs": [
    {
     "data": {
      "text/plain": [
       "0.5816818187862642"
      ]
     },
     "execution_count": 13,
     "metadata": {},
     "output_type": "execute_result"
    }
   ],
   "source": [
    "perc_pass_plays = total_passing_plays / total_plays\n",
    "perc_pass_plays"
   ]
  },
  {
   "cell_type": "markdown",
   "metadata": {},
   "source": [
    "#### The average game (in the given time frame from 2009 to 2016) consists of 41.83% running plays and 58.17% of passing plays"
   ]
  },
  {
   "cell_type": "markdown",
   "metadata": {},
   "source": [
    "### Calculating the percentages for the home team and the away team"
   ]
  },
  {
   "cell_type": "code",
   "execution_count": 14,
   "metadata": {},
   "outputs": [],
   "source": [
    "total_run_away = away_run.shape[0]"
   ]
  },
  {
   "cell_type": "code",
   "execution_count": 15,
   "metadata": {},
   "outputs": [],
   "source": [
    "total_pass_away = away_pass.shape[0]"
   ]
  },
  {
   "cell_type": "code",
   "execution_count": 16,
   "metadata": {},
   "outputs": [],
   "source": [
    "total_run_home = home_run.shape[0]"
   ]
  },
  {
   "cell_type": "code",
   "execution_count": 17,
   "metadata": {},
   "outputs": [],
   "source": [
    "total_pass_home = home_pass.shape[0]"
   ]
  },
  {
   "cell_type": "code",
   "execution_count": 18,
   "metadata": {},
   "outputs": [],
   "source": [
    "total_away_plays = total_run_away + total_pass_away"
   ]
  },
  {
   "cell_type": "code",
   "execution_count": 19,
   "metadata": {},
   "outputs": [
    {
     "data": {
      "text/plain": [
       "113236"
      ]
     },
     "execution_count": 19,
     "metadata": {},
     "output_type": "execute_result"
    }
   ],
   "source": [
    "total_home_plays = total_run_home + total_pass_home\n",
    "total_home_plays"
   ]
  },
  {
   "cell_type": "code",
   "execution_count": 20,
   "metadata": {},
   "outputs": [
    {
     "data": {
      "text/plain": [
       "0.41322475859920793"
      ]
     },
     "execution_count": 20,
     "metadata": {},
     "output_type": "execute_result"
    }
   ],
   "source": [
    "perc_run_away = total_run_away/ total_away_plays\n",
    "perc_run_away"
   ]
  },
  {
   "cell_type": "code",
   "execution_count": 21,
   "metadata": {},
   "outputs": [
    {
     "data": {
      "text/plain": [
       "0.5867752414007921"
      ]
     },
     "execution_count": 21,
     "metadata": {},
     "output_type": "execute_result"
    }
   ],
   "source": [
    "perc_pass_away = total_pass_away/ total_away_plays\n",
    "perc_pass_away"
   ]
  },
  {
   "cell_type": "code",
   "execution_count": 22,
   "metadata": {},
   "outputs": [
    {
     "data": {
      "text/plain": [
       "0.5822618248613515"
      ]
     },
     "execution_count": 22,
     "metadata": {},
     "output_type": "execute_result"
    }
   ],
   "source": [
    "perc_pass_home = total_pass_away/ total_home_plays\n",
    "perc_pass_home"
   ]
  },
  {
   "cell_type": "code",
   "execution_count": 23,
   "metadata": {},
   "outputs": [
    {
     "data": {
      "text/plain": [
       "0.41004627503620755"
      ]
     },
     "execution_count": 23,
     "metadata": {},
     "output_type": "execute_result"
    }
   ],
   "source": [
    "perc_run_home = total_run_away/ total_home_plays\n",
    "perc_run_home"
   ]
  },
  {
   "cell_type": "markdown",
   "metadata": {},
   "source": [
    "No significant difference!"
   ]
  },
  {
   "cell_type": "markdown",
   "metadata": {},
   "source": [
    "### Calculating the average yards gained per play (running vs passing)\n",
    "\n",
    "SUM( yards_gained by running play) / total plays\n",
    "\n",
    "SUM( yards_gained by passing play) / total plays"
   ]
  },
  {
   "cell_type": "code",
   "execution_count": 24,
   "metadata": {},
   "outputs": [
    {
     "data": {
      "text/plain": [
       "410219.0"
      ]
     },
     "execution_count": 24,
     "metadata": {},
     "output_type": "execute_result"
    }
   ],
   "source": [
    "# summing the yards gained by running of the away team and home team\n",
    "sum_yards_running = sum(away_run_sum.yards_gained) + sum(home_run_sum.yards_gained)\n",
    "sum_yards_running"
   ]
  },
  {
   "cell_type": "code",
   "execution_count": 25,
   "metadata": {},
   "outputs": [
    {
     "data": {
      "text/plain": [
       "826994.0"
      ]
     },
     "execution_count": 25,
     "metadata": {},
     "output_type": "execute_result"
    }
   ],
   "source": [
    "# summing the yards gained by passing of the away team and home team\n",
    "sum_yards_passing = sum(away_pass_sum.yards_gained) + sum(home_pass_sum.yards_gained)\n",
    "sum_yards_passing"
   ]
  },
  {
   "cell_type": "code",
   "execution_count": 26,
   "metadata": {},
   "outputs": [
    {
     "data": {
      "text/plain": [
       "1.8183385711942766"
      ]
     },
     "execution_count": 26,
     "metadata": {},
     "output_type": "execute_result"
    }
   ],
   "source": [
    "# average yards gained per running play \n",
    "\n",
    "avg_yards_running = sum_yards_running / total_plays\n",
    "avg_yards_running\n"
   ]
  },
  {
   "cell_type": "code",
   "execution_count": 27,
   "metadata": {},
   "outputs": [
    {
     "data": {
      "text/plain": [
       "4.346783507994871"
      ]
     },
     "execution_count": 27,
     "metadata": {},
     "output_type": "execute_result"
    }
   ],
   "source": [
    "yards_run = sum_yards_running/ total_running_plays\n",
    "yards_run"
   ]
  },
  {
   "cell_type": "code",
   "execution_count": 28,
   "metadata": {},
   "outputs": [
    {
     "data": {
      "text/plain": [
       "3.665737297263753"
      ]
     },
     "execution_count": 28,
     "metadata": {},
     "output_type": "execute_result"
    }
   ],
   "source": [
    "# average yards gained per passing play \n",
    "\n",
    "avg_yards_passing = sum_yards_passing / total_plays\n",
    "avg_yards_passing"
   ]
  },
  {
   "cell_type": "code",
   "execution_count": 29,
   "metadata": {},
   "outputs": [
    {
     "data": {
      "text/plain": [
       "6.301962995702136"
      ]
     },
     "execution_count": 29,
     "metadata": {},
     "output_type": "execute_result"
    }
   ],
   "source": [
    "yards_pass = sum_yards_passing/ total_passing_plays\n",
    "yards_pass"
   ]
  },
  {
   "cell_type": "markdown",
   "metadata": {},
   "source": [
    "##### average yards by passing game: 6.3\n",
    "##### average yards by running game: 4.4\n",
    "\n",
    "I expected the yards gained by passing to be much higher than the yards gained by running. Maybe the number of passing games that are incomplete or result in a loss of yards (negative yards gained) overweigh the succesful/completed passes. \n",
    "\n",
    "### Describtive statistics of 'yards_gained' column"
   ]
  },
  {
   "cell_type": "code",
   "execution_count": 30,
   "metadata": {},
   "outputs": [
    {
     "data": {
      "text/plain": [
       "count    47941.000000\n",
       "mean         4.395132\n",
       "std          6.526462\n",
       "min        -18.000000\n",
       "25%          1.000000\n",
       "50%          3.000000\n",
       "75%          6.000000\n",
       "max         97.000000\n",
       "Name: yards_gained, dtype: float64"
      ]
     },
     "execution_count": 30,
     "metadata": {},
     "output_type": "execute_result"
    }
   ],
   "source": [
    "home_run['yards_gained'].describe()"
   ]
  },
  {
   "cell_type": "code",
   "execution_count": 31,
   "metadata": {},
   "outputs": [
    {
     "data": {
      "text/plain": [
       "count    46432.000000\n",
       "mean         4.296864\n",
       "std          6.363918\n",
       "min        -27.000000\n",
       "25%          1.000000\n",
       "50%          3.000000\n",
       "75%          6.000000\n",
       "max         91.000000\n",
       "Name: yards_gained, dtype: float64"
      ]
     },
     "execution_count": 31,
     "metadata": {},
     "output_type": "execute_result"
    }
   ],
   "source": [
    "away_run['yards_gained'].describe()"
   ]
  },
  {
   "cell_type": "code",
   "execution_count": 32,
   "metadata": {},
   "outputs": [
    {
     "data": {
      "text/plain": [
       "count    65295.000000\n",
       "mean         6.442913\n",
       "std         10.219999\n",
       "min        -28.000000\n",
       "25%          0.000000\n",
       "50%          4.000000\n",
       "75%         11.000000\n",
       "max         95.000000\n",
       "Name: yards_gained, dtype: float64"
      ]
     },
     "execution_count": 32,
     "metadata": {},
     "output_type": "execute_result"
    }
   ],
   "source": [
    "home_pass['yards_gained'].describe()"
   ]
  },
  {
   "cell_type": "code",
   "execution_count": 33,
   "metadata": {},
   "outputs": [
    {
     "data": {
      "text/plain": [
       "count    65933.000000\n",
       "mean         6.162377\n",
       "std         10.136692\n",
       "min        -38.000000\n",
       "25%          0.000000\n",
       "50%          3.000000\n",
       "75%         10.000000\n",
       "max         99.000000\n",
       "Name: yards_gained, dtype: float64"
      ]
     },
     "execution_count": 33,
     "metadata": {},
     "output_type": "execute_result"
    }
   ],
   "source": [
    "away_pass['yards_gained'].describe()"
   ]
  },
  {
   "cell_type": "code",
   "execution_count": 34,
   "metadata": {},
   "outputs": [
    {
     "data": {
      "text/plain": [
       "(array([4.0000e+00, 2.0000e+01, 1.0900e+02, 1.3520e+03, 1.3328e+04,\n",
       "        1.6706e+04, 9.4700e+03, 3.5780e+03, 1.5630e+03, 6.9300e+02,\n",
       "        3.4300e+02, 1.7100e+02, 1.5300e+02, 1.2800e+02, 8.1000e+01,\n",
       "        5.0000e+01, 3.8000e+01, 2.8000e+01, 2.5000e+01, 1.9000e+01,\n",
       "        2.0000e+01, 1.2000e+01, 1.0000e+01, 7.0000e+00, 7.0000e+00,\n",
       "        1.0000e+01, 3.0000e+00, 6.0000e+00, 5.0000e+00, 2.0000e+00]),\n",
       " array([-18.        , -14.16666667, -10.33333333,  -6.5       ,\n",
       "         -2.66666667,   1.16666667,   5.        ,   8.83333333,\n",
       "         12.66666667,  16.5       ,  20.33333333,  24.16666667,\n",
       "         28.        ,  31.83333333,  35.66666667,  39.5       ,\n",
       "         43.33333333,  47.16666667,  51.        ,  54.83333333,\n",
       "         58.66666667,  62.5       ,  66.33333333,  70.16666667,\n",
       "         74.        ,  77.83333333,  81.66666667,  85.5       ,\n",
       "         89.33333333,  93.16666667,  97.        ]),\n",
       " <a list of 30 Patch objects>)"
      ]
     },
     "execution_count": 34,
     "metadata": {},
     "output_type": "execute_result"
    },
    {
     "data": {
      "image/png": "[encoded data removed]",
      "text/plain": [
       "<Figure size 432x288 with 1 Axes>"
      ]
     },
     "metadata": {
      "needs_background": "light"
     },
     "output_type": "display_data"
    }
   ],
   "source": [
    "plt.hist(home_run['yards_gained'], bins = 30)"
   ]
  },
  {
   "cell_type": "code",
   "execution_count": 35,
   "metadata": {},
   "outputs": [
    {
     "data": {
      "text/plain": [
       "(array([1.0000e+00, 0.0000e+00, 3.0000e+00, 1.1000e+01, 6.4000e+01,\n",
       "        7.2400e+02, 8.2260e+03, 2.1685e+04, 9.2360e+03, 3.3780e+03,\n",
       "        1.3830e+03, 6.6500e+02, 3.4700e+02, 2.1300e+02, 9.4000e+01,\n",
       "        9.6000e+01, 6.4000e+01, 5.4000e+01, 4.1000e+01, 3.9000e+01,\n",
       "        3.0000e+01, 1.2000e+01, 1.8000e+01, 1.1000e+01, 1.1000e+01,\n",
       "        4.0000e+00, 7.0000e+00, 1.3000e+01, 1.0000e+00, 1.0000e+00]),\n",
       " array([-27.        , -23.06666667, -19.13333333, -15.2       ,\n",
       "        -11.26666667,  -7.33333333,  -3.4       ,   0.53333333,\n",
       "          4.46666667,   8.4       ,  12.33333333,  16.26666667,\n",
       "         20.2       ,  24.13333333,  28.06666667,  32.        ,\n",
       "         35.93333333,  39.86666667,  43.8       ,  47.73333333,\n",
       "         51.66666667,  55.6       ,  59.53333333,  63.46666667,\n",
       "         67.4       ,  71.33333333,  75.26666667,  79.2       ,\n",
       "         83.13333333,  87.06666667,  91.        ]),\n",
       " <a list of 30 Patch objects>)"
      ]
     },
     "execution_count": 35,
     "metadata": {},
     "output_type": "execute_result"
    },
    {
     "data": {
      "image/png": "[encoded data removed]",
      "text/plain": [
       "<Figure size 432x288 with 1 Axes>"
      ]
     },
     "metadata": {
      "needs_background": "light"
     },
     "output_type": "display_data"
    }
   ],
   "source": [
    "plt.hist(away_run['yards_gained'],bins = 30)"
   ]
  },
  {
   "cell_type": "code",
   "execution_count": 36,
   "metadata": {},
   "outputs": [
    {
     "data": {
      "text/plain": [
       "(array([4.0000e+00, 1.1000e+01, 4.1000e+01, 2.1500e+02, 1.2970e+03,\n",
       "        1.8050e+03, 2.5170e+04, 5.9010e+03, 1.0297e+04, 7.6940e+03,\n",
       "        5.7010e+03, 2.5670e+03, 1.5360e+03, 8.9000e+02, 5.7200e+02,\n",
       "        4.1700e+02, 2.7400e+02, 2.2300e+02, 1.8900e+02, 1.4000e+02,\n",
       "        1.0100e+02, 7.3000e+01, 4.6000e+01, 4.0000e+01, 3.1000e+01,\n",
       "        2.2000e+01, 2.1000e+01, 6.0000e+00, 8.0000e+00, 3.0000e+00]),\n",
       " array([-28. , -23.9, -19.8, -15.7, -11.6,  -7.5,  -3.4,   0.7,   4.8,\n",
       "          8.9,  13. ,  17.1,  21.2,  25.3,  29.4,  33.5,  37.6,  41.7,\n",
       "         45.8,  49.9,  54. ,  58.1,  62.2,  66.3,  70.4,  74.5,  78.6,\n",
       "         82.7,  86.8,  90.9,  95. ]),\n",
       " <a list of 30 Patch objects>)"
      ]
     },
     "execution_count": 36,
     "metadata": {},
     "output_type": "execute_result"
    },
    {
     "data": {
      "image/png": "[encoded data removed]",
      "text/plain": [
       "<Figure size 432x288 with 1 Axes>"
      ]
     },
     "metadata": {
      "needs_background": "light"
     },
     "output_type": "display_data"
    }
   ],
   "source": [
    "plt.hist(home_pass['yards_gained'], bins = 30)"
   ]
  },
  {
   "cell_type": "code",
   "execution_count": 37,
   "metadata": {},
   "outputs": [
    {
     "data": {
      "text/plain": [
       "(array([1.0000e+00, 0.0000e+00, 1.0000e+00, 1.4000e+01, 3.6000e+01,\n",
       "        3.8700e+02, 1.9050e+03, 2.2080e+03, 2.8934e+04, 9.9600e+03,\n",
       "        1.0197e+04, 4.6390e+03, 3.3200e+03, 1.4570e+03, 1.0090e+03,\n",
       "        5.3900e+02, 3.3000e+02, 3.2100e+02, 1.6300e+02, 1.4700e+02,\n",
       "        8.6000e+01, 8.0000e+01, 5.6000e+01, 3.3000e+01, 3.4000e+01,\n",
       "        3.9000e+01, 2.1000e+01, 6.0000e+00, 6.0000e+00, 4.0000e+00]),\n",
       " array([-38.        , -33.43333333, -28.86666667, -24.3       ,\n",
       "        -19.73333333, -15.16666667, -10.6       ,  -6.03333333,\n",
       "         -1.46666667,   3.1       ,   7.66666667,  12.23333333,\n",
       "         16.8       ,  21.36666667,  25.93333333,  30.5       ,\n",
       "         35.06666667,  39.63333333,  44.2       ,  48.76666667,\n",
       "         53.33333333,  57.9       ,  62.46666667,  67.03333333,\n",
       "         71.6       ,  76.16666667,  80.73333333,  85.3       ,\n",
       "         89.86666667,  94.43333333,  99.        ]),\n",
       " <a list of 30 Patch objects>)"
      ]
     },
     "execution_count": 37,
     "metadata": {},
     "output_type": "execute_result"
    },
    {
     "data": {
      "image/png": "[encoded data removed]",
      "text/plain": [
       "<Figure size 432x288 with 1 Axes>"
      ]
     },
     "metadata": {
      "needs_background": "light"
     },
     "output_type": "display_data"
    }
   ],
   "source": [
    "plt.hist(away_pass['yards_gained'],bins = 30)"
   ]
  },
  {
   "cell_type": "markdown",
   "metadata": {},
   "source": [
    "### Risk Analysis\n",
    "\n",
    "- What is the risk of having an unsuccesful play, a play with no gained yards (0 or less, lost yards, fumble with positive yards)?  \n",
    "- What is the chance of ball loss (fumble or interception) in general and by running or passing play? "
   ]
  },
  {
   "cell_type": "code",
   "execution_count": 38,
   "metadata": {},
   "outputs": [],
   "source": [
    "# adding the columns for Interception and Fumble to the subsetted DF's\n",
    "\n",
    "home = train_01.loc[train_01['posteam_type'] == 'home']\n",
    "away = train_01.loc[train_01['posteam_type'] == 'away']\n",
    "\n",
    "# filtering for running plays and passing plays \n",
    "away = away[['game_id','game_date','play_id','play_type','yards_gained', 'interception', 'fumble_lost']]\n",
    "away_run = away.loc[away['play_type'] == 'run']\n",
    "away_pass = away.loc[away['play_type'] == 'pass']\n",
    "\n",
    "home = home[['game_id','game_date','play_id','play_type','yards_gained', 'interception', 'fumble_lost']]\n",
    "home_run = home.loc[home['play_type'] == 'run']\n",
    "home_pass = home.loc[home['play_type'] == 'pass']"
   ]
  },
  {
   "cell_type": "markdown",
   "metadata": {},
   "source": [
    "##### General risk"
   ]
  },
  {
   "cell_type": "code",
   "execution_count": 39,
   "metadata": {},
   "outputs": [],
   "source": [
    "# filtering for all plays with 0 yards gained or yards lost (negative yards gained)\n",
    "away_run_failed = away_run.loc[away_run['yards_gained'] <= 0]\n",
    "away_pass_failed = away_pass.loc[away_pass['yards_gained'] <= 0]\n",
    "home_run_failed = home_run.loc[home_run['yards_gained'] <= 0 ]\n",
    "home_pass_failed = home_pass.loc[home_pass['yards_gained'] <= 0]\n",
    "\n",
    "fumble_yg_away_run = away_run.loc[(away_run['yards_gained'] > 0) & (away_run['fumble_lost'] == 1.0) ]\n",
    "fumble_yg_away_pass = away_pass.loc[(away_pass['yards_gained'] > 0) & (away_pass['fumble_lost'] == 1.0) ]\n",
    "fumble_yg_home_run = home_run.loc[(home_run['yards_gained'] > 0) & (home_run['fumble_lost'] == 1.0) ]\n",
    "fumble_yg_home_pass = home_pass.loc[(home_pass['yards_gained'] > 0) & (home_pass['fumble_lost'] == 1.0) ]"
   ]
  },
  {
   "cell_type": "code",
   "execution_count": 40,
   "metadata": {},
   "outputs": [],
   "source": [
    "total_plays_failed = (away_run_failed.shape[0] \n",
    "                      + away_pass_failed.shape[0] \n",
    "                      + home_run_failed.shape[0] \n",
    "                      + home_pass_failed.shape[0]\n",
    "                     + fumble_yg_away_run.shape[0]\n",
    "                     + fumble_yg_away_pass.shape[0]\n",
    "                     + fumble_yg_home_run.shape[0]\n",
    "                     + fumble_yg_home_pass.shape[0])"
   ]
  },
  {
   "cell_type": "code",
   "execution_count": 41,
   "metadata": {},
   "outputs": [
    {
     "data": {
      "text/plain": [
       "0.34272011205624087"
      ]
     },
     "execution_count": 41,
     "metadata": {},
     "output_type": "execute_result"
    }
   ],
   "source": [
    "general_risk = total_plays_failed / total_plays\n",
    "general_risk"
   ]
  },
  {
   "cell_type": "markdown",
   "metadata": {},
   "source": [
    "##### Risk running play "
   ]
  },
  {
   "cell_type": "code",
   "execution_count": 42,
   "metadata": {},
   "outputs": [],
   "source": [
    "total_run_failed = (away_run_failed.shape[0] + home_run_failed.shape[0] \n",
    "                    + fumble_yg_away_run.shape[0] + fumble_yg_home_run.shape[0])"
   ]
  },
  {
   "cell_type": "code",
   "execution_count": 43,
   "metadata": {},
   "outputs": [
    {
     "data": {
      "text/plain": [
       "0.19743994574719465"
      ]
     },
     "execution_count": 43,
     "metadata": {},
     "output_type": "execute_result"
    }
   ],
   "source": [
    "running_risk = total_run_failed / total_running_plays\n",
    "running_risk"
   ]
  },
  {
   "cell_type": "markdown",
   "metadata": {},
   "source": [
    "##### Risk passing play"
   ]
  },
  {
   "cell_type": "code",
   "execution_count": 44,
   "metadata": {},
   "outputs": [],
   "source": [
    "total_pass_failed = (away_pass_failed.shape[0] + home_pass_failed.shape[0]\n",
    "                     + fumble_yg_away_pass.shape[0] + fumble_yg_home_pass.shape[0])"
   ]
  },
  {
   "cell_type": "code",
   "execution_count": 45,
   "metadata": {},
   "outputs": [
    {
     "data": {
      "text/plain": [
       "0.44719876855549123"
      ]
     },
     "execution_count": 45,
     "metadata": {},
     "output_type": "execute_result"
    }
   ],
   "source": [
    "passing_risk = total_pass_failed / total_passing_plays\n",
    "passing_risk"
   ]
  },
  {
   "cell_type": "markdown",
   "metadata": {},
   "source": [
    "#### There is a general risk of 33.89%/ adjusted 34.3% of an unseccesful play. The risk of a running game is 19.7% and 44.7% for a passing game. "
   ]
  },
  {
   "cell_type": "markdown",
   "metadata": {},
   "source": [
    "##### The risk of loosing the ball\n",
    "The ball can be lost by the team in posation if the quarterback throws an interception or if the defense team recovers a fumble (column 'fumble_lost'). An interception can only occur in a passing play, but a fumble can occur in a passing or running play. "
   ]
  },
  {
   "cell_type": "code",
   "execution_count": 46,
   "metadata": {},
   "outputs": [],
   "source": [
    "away_run_fum = away_run.loc[away_run['fumble_lost'] == 1.0]\n",
    "away_pass_int = away_pass.loc[away_pass['interception'] == 1.0]\n",
    "away_pass_fum = away_pass.loc[away_pass['fumble_lost'] == 1.0]\n",
    "home_run_fum = home_run.loc[home_run['fumble_lost'] == 1.0]\n",
    "home_pass_int = home_pass.loc[home_pass['interception'] == 1.0]\n",
    "home_pass_fum = home_pass.loc[home_pass['fumble_lost'] == 1.0]\n",
    "\n",
    "total_ball_losses = ( away_run_fum.shape[0]\n",
    "                 + away_pass_int.shape[0]\n",
    "                 + away_pass_fum.shape[0]\n",
    "                 + home_run_fum.shape[0]\n",
    "                 + home_pass_int.shape[0]\n",
    "                 + home_pass_fum.shape[0])"
   ]
  },
  {
   "cell_type": "code",
   "execution_count": 47,
   "metadata": {},
   "outputs": [
    {
     "data": {
      "text/plain": [
       "0.02271709788520441"
      ]
     },
     "execution_count": 47,
     "metadata": {},
     "output_type": "execute_result"
    }
   ],
   "source": [
    "ball_loss_risk = total_ball_losses / total_plays\n",
    "\n",
    "ball_loss_risk"
   ]
  },
  {
   "cell_type": "code",
   "execution_count": 48,
   "metadata": {},
   "outputs": [],
   "source": [
    "ball_loss_run = (away_run_fum.shape[0] + home_run_fum.shape[0])\n",
    "\n",
    "ball_loss_pass = ( away_pass_int.shape[0]\n",
    "                 + away_pass_fum.shape[0]\n",
    "                 + home_pass_int.shape[0]\n",
    "                 + home_pass_fum.shape[0])"
   ]
  },
  {
   "cell_type": "code",
   "execution_count": 49,
   "metadata": {},
   "outputs": [
    {
     "data": {
      "text/plain": [
       "0.00858296334756763"
      ]
     },
     "execution_count": 49,
     "metadata": {},
     "output_type": "execute_result"
    }
   ],
   "source": [
    "ball_loss_risk_run = ball_loss_run / total_running_plays\n",
    "ball_loss_risk_run"
   ]
  },
  {
   "cell_type": "code",
   "execution_count": 50,
   "metadata": {},
   "outputs": [
    {
     "data": {
      "text/plain": [
       "0.03288170207577651"
      ]
     },
     "execution_count": 50,
     "metadata": {},
     "output_type": "execute_result"
    }
   ],
   "source": [
    "ball_loss_risk_pass = ball_loss_pass / total_passing_plays\n",
    "ball_loss_risk_pass"
   ]
  },
  {
   "cell_type": "markdown",
   "metadata": {},
   "source": [
    "#### The general risk for the team in posation to loose the ball in a play is 2.27% . The risk to loose the ball to the defense team on a running play is just under 1% (0.86%) but the risk in a passing play is 3.29%\n",
    "\n",
    "#### A passing play generally results in more yards gained but also has a higher chance of ball loss to the oponing team which automatically results in a end of the drive. "
   ]
  },
  {
   "cell_type": "markdown",
   "metadata": {},
   "source": [
    "Create dataframe with game based data"
   ]
  },
  {
   "cell_type": "code",
   "execution_count": 52,
   "metadata": {},
   "outputs": [
    {
     "data": {
      "text/html": [
       "<div>\n",
       "<style scoped>\n",
       "    .dataframe tbody tr th:only-of-type {\n",
       "        vertical-align: middle;\n",
       "    }\n",
       "\n",
       "    .dataframe tbody tr th {\n",
       "        vertical-align: top;\n",
       "    }\n",
       "\n",
       "    .dataframe thead th {\n",
       "        text-align: right;\n",
       "    }\n",
       "</style>\n",
       "<table border=\"1\" class=\"dataframe\">\n",
       "  <thead>\n",
       "    <tr style=\"text-align: right;\">\n",
       "      <th></th>\n",
       "      <th>game_id</th>\n",
       "      <th>play_id</th>\n",
       "      <th>yards_gained</th>\n",
       "      <th>interception</th>\n",
       "      <th>fumble_lost</th>\n",
       "    </tr>\n",
       "  </thead>\n",
       "  <tbody>\n",
       "    <tr>\n",
       "      <th>0</th>\n",
       "      <td>2009091000</td>\n",
       "      <td>47250</td>\n",
       "      <td>36.0</td>\n",
       "      <td>0.0</td>\n",
       "      <td>0.0</td>\n",
       "    </tr>\n",
       "    <tr>\n",
       "      <th>1</th>\n",
       "      <td>2009091300</td>\n",
       "      <td>42430</td>\n",
       "      <td>72.0</td>\n",
       "      <td>0.0</td>\n",
       "      <td>0.0</td>\n",
       "    </tr>\n",
       "    <tr>\n",
       "      <th>2</th>\n",
       "      <td>2009091301</td>\n",
       "      <td>94007</td>\n",
       "      <td>198.0</td>\n",
       "      <td>0.0</td>\n",
       "      <td>0.0</td>\n",
       "    </tr>\n",
       "    <tr>\n",
       "      <th>3</th>\n",
       "      <td>2009091302</td>\n",
       "      <td>48103</td>\n",
       "      <td>87.0</td>\n",
       "      <td>0.0</td>\n",
       "      <td>1.0</td>\n",
       "    </tr>\n",
       "    <tr>\n",
       "      <th>4</th>\n",
       "      <td>2009091303</td>\n",
       "      <td>40456</td>\n",
       "      <td>86.0</td>\n",
       "      <td>0.0</td>\n",
       "      <td>0.0</td>\n",
       "    </tr>\n",
       "    <tr>\n",
       "      <th>...</th>\n",
       "      <td>...</td>\n",
       "      <td>...</td>\n",
       "      <td>...</td>\n",
       "      <td>...</td>\n",
       "      <td>...</td>\n",
       "    </tr>\n",
       "    <tr>\n",
       "      <th>1786</th>\n",
       "      <td>2016010311</td>\n",
       "      <td>43043</td>\n",
       "      <td>92.0</td>\n",
       "      <td>0.0</td>\n",
       "      <td>1.0</td>\n",
       "    </tr>\n",
       "    <tr>\n",
       "      <th>1787</th>\n",
       "      <td>2016010312</td>\n",
       "      <td>53927</td>\n",
       "      <td>113.0</td>\n",
       "      <td>0.0</td>\n",
       "      <td>0.0</td>\n",
       "    </tr>\n",
       "    <tr>\n",
       "      <th>1788</th>\n",
       "      <td>2016010313</td>\n",
       "      <td>70337</td>\n",
       "      <td>212.0</td>\n",
       "      <td>0.0</td>\n",
       "      <td>1.0</td>\n",
       "    </tr>\n",
       "    <tr>\n",
       "      <th>1789</th>\n",
       "      <td>2016010314</td>\n",
       "      <td>19370</td>\n",
       "      <td>27.0</td>\n",
       "      <td>0.0</td>\n",
       "      <td>0.0</td>\n",
       "    </tr>\n",
       "    <tr>\n",
       "      <th>1790</th>\n",
       "      <td>2016010315</td>\n",
       "      <td>71170</td>\n",
       "      <td>110.0</td>\n",
       "      <td>0.0</td>\n",
       "      <td>0.0</td>\n",
       "    </tr>\n",
       "  </tbody>\n",
       "</table>\n",
       "<p>1791 rows × 5 columns</p>\n",
       "</div>"
      ],
      "text/plain": [
       "         game_id  play_id  yards_gained  interception  fumble_lost\n",
       "0     2009091000    47250          36.0           0.0          0.0\n",
       "1     2009091300    42430          72.0           0.0          0.0\n",
       "2     2009091301    94007         198.0           0.0          0.0\n",
       "3     2009091302    48103          87.0           0.0          1.0\n",
       "4     2009091303    40456          86.0           0.0          0.0\n",
       "...          ...      ...           ...           ...          ...\n",
       "1786  2016010311    43043          92.0           0.0          1.0\n",
       "1787  2016010312    53927         113.0           0.0          0.0\n",
       "1788  2016010313    70337         212.0           0.0          1.0\n",
       "1789  2016010314    19370          27.0           0.0          0.0\n",
       "1790  2016010315    71170         110.0           0.0          0.0\n",
       "\n",
       "[1791 rows x 5 columns]"
      ]
     },
     "execution_count": 52,
     "metadata": {},
     "output_type": "execute_result"
    }
   ],
   "source": [
    "games = home_run.groupby('game_id', as_index = False).sum()\n",
    "games"
   ]
  },
  {
   "cell_type": "code",
   "execution_count": null,
   "metadata": {},
   "outputs": [],
   "source": []
  }
 ],
 "metadata": {
  "kernelspec": {
   "display_name": "Python 3",
   "language": "python",
   "name": "python3"
  },
  "language_info": {
   "codemirror_mode": {
    "name": "ipython",
    "version": 3
   },
   "file_extension": ".py",
   "mimetype": "text/x-python",
   "name": "python",
   "nbconvert_exporter": "python",
   "pygments_lexer": "ipython3",
   "version": "3.8.5"
  }
 },
 "nbformat": 4,
 "nbformat_minor": 4
}
