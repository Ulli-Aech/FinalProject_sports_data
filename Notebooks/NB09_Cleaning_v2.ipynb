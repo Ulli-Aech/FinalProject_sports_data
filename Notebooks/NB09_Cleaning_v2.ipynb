{
 "cells": [
  {
   "cell_type": "code",
   "execution_count": 1,
   "metadata": {},
   "outputs": [],
   "source": [
    "import pandas as pd\n",
    "import numpy as np\n",
    "\n",
    "pd.options.display.max_columns = None \n",
    "pd.options.display.max_rows = None"
   ]
  },
  {
   "cell_type": "code",
   "execution_count": 2,
   "metadata": {},
   "outputs": [
    {
     "name": "stderr",
     "output_type": "stream",
     "text": [
      "/Users/ulrikeanklam/opt/anaconda3/envs/matrix/lib/python3.8/site-packages/IPython/core/interactiveshell.py:3145: DtypeWarning: Columns (42,166,167,168,169,174,175,178,179,182,183,188,189,190,191,194,195,203,204,205,218,219,220,231,232,233,238,240,241,249) have mixed types.Specify dtype option on import or set low_memory=False.\n",
      "  has_raised = await self.run_ast_nodes(code_ast.body, cell_name,\n"
     ]
    }
   ],
   "source": [
    "data = pd.read_csv('../Data/NFL_Play_by_Play_2009-2018(v5).csv')"
   ]
  },
  {
   "cell_type": "code",
   "execution_count": 3,
   "metadata": {},
   "outputs": [],
   "source": [
    "def clean_data(df):\n",
    "    df = df.assign(field_goal = np.where(df['field_goal_result'] == 'made', 1, 0))\n",
    "    df = df.assign(extra_point = np.where(df['extra_point_result'] == 'good', 1, 0))\n",
    "    df = df.assign(two_point_conversion = np.where(df['two_point_conv_result'] == 'success', 1, 0))\n",
    "    \n",
    "    missing_values = df.isnull().sum()\n",
    "    mv_ratio = missing_values[missing_values.gt(0)]/len(df)\n",
    "    list_mv_50 = mv_ratio.loc[mv_ratio.gt(0.5)].index\n",
    "    \n",
    "    train_01 = df.drop( columns = list_mv_50).copy()\n",
    "    \n",
    "    mv_01 = train_01.isnull().sum()\n",
    "    list_cols = mv_01.loc[mv_01.gt(0)].index\n",
    "    \n",
    "    for col in list_cols:\n",
    "        train_01[col] = train_01[col].fillna(0)\n",
    "    \n",
    "    return train_01"
   ]
  },
  {
   "cell_type": "code",
   "execution_count": 4,
   "metadata": {},
   "outputs": [],
   "source": [
    "clean = clean_data(data)"
   ]
  },
  {
   "cell_type": "code",
   "execution_count": 7,
   "metadata": {},
   "outputs": [],
   "source": [
    "#export = clean.to_csv('../Data/data_clean.csv', index = False)"
   ]
  },
  {
   "cell_type": "code",
   "execution_count": 5,
   "metadata": {},
   "outputs": [],
   "source": [
    "#export_index = clean.to_csv('../Data/data_clean_index.csv')"
   ]
  },
  {
   "cell_type": "code",
   "execution_count": null,
   "metadata": {},
   "outputs": [],
   "source": []
  }
 ],
 "metadata": {
  "kernelspec": {
   "display_name": "Python 3",
   "language": "python",
   "name": "python3"
  },
  "language_info": {
   "codemirror_mode": {
    "name": "ipython",
    "version": 3
   },
   "file_extension": ".py",
   "mimetype": "text/x-python",
   "name": "python",
   "nbconvert_exporter": "python",
   "pygments_lexer": "ipython3",
   "version": "3.8.5"
  }
 },
 "nbformat": 4,
 "nbformat_minor": 4
}
