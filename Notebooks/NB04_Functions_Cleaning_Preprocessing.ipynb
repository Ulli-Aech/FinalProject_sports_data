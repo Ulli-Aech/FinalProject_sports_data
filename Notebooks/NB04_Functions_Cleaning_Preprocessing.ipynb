{
 "cells": [
  {
   "cell_type": "code",
   "execution_count": 1,
   "metadata": {},
   "outputs": [],
   "source": [
    "import pandas as pd\n",
    "import numpy as np"
   ]
  },
  {
   "cell_type": "markdown",
   "metadata": {},
   "source": [
    "### Defining function for data cleaning"
   ]
  },
  {
   "cell_type": "code",
   "execution_count": 2,
   "metadata": {},
   "outputs": [],
   "source": [
    "def clean_data(df):\n",
    "    missing_values = df.isnull().sum()\n",
    "    mv_ratio = missing_values[missing_values.gt(0)]/len(df)\n",
    "    list_mv_50 = mv_ratio.loc[mv_ratio.gt(0.5)].index\n",
    "    \n",
    "    train_01 = df.drop( columns = list_mv_50).copy()\n",
    "    \n",
    "    mv_01 = train_01.isnull().sum()\n",
    "    list_cols = mv_01.loc[mv_01.gt(0)].index\n",
    "    \n",
    "    for col in list_cols:\n",
    "        train_01[col] = train_01[col].fillna(0)\n",
    "    \n",
    "    return train_01"
   ]
  },
  {
   "cell_type": "code",
   "execution_count": 3,
   "metadata": {},
   "outputs": [
    {
     "name": "stderr",
     "output_type": "stream",
     "text": [
      "/Users/ulrikeanklam/opt/anaconda3/envs/matrix/lib/python3.8/site-packages/IPython/core/interactiveshell.py:3145: DtypeWarning: Columns (166,167,168,169,174,175,178,179,182,183,188,189,190,191,194,195,203,204,205,226,227,231,232,233,238,240,241) have mixed types.Specify dtype option on import or set low_memory=False.\n",
      "  has_raised = await self.run_ast_nodes(code_ast.body, cell_name,\n"
     ]
    }
   ],
   "source": [
    "test = pd.read_csv('../Data/nfl_test.csv')"
   ]
  },
  {
   "cell_type": "code",
   "execution_count": 4,
   "metadata": {},
   "outputs": [],
   "source": [
    "test = clean_data(test)"
   ]
  },
  {
   "cell_type": "code",
   "execution_count": 5,
   "metadata": {},
   "outputs": [],
   "source": [
    "# export cleaned test df\n",
    "# test = test.to_csv('../Data/test_clean.csv', index = False)"
   ]
  },
  {
   "cell_type": "markdown",
   "metadata": {},
   "source": [
    "### Defining function for data preprocessing"
   ]
  },
  {
   "cell_type": "code",
   "execution_count": 11,
   "metadata": {},
   "outputs": [],
   "source": [
    "def process_data(df):\n",
    "    df['succesful_play'] = (np.where((df['play_type'] == 'pass')\n",
    "                                        & (df['yards_gained']>= 6.3), 1,\n",
    "                                   np.where((df['play_type'] == 'run') \n",
    "                                            & (df['yards_gained'] >= 4.4), 1, 0)))\n",
    "    \n",
    "    df['game_setting'] = df['home_team'].str.cat(df['away_team'])\n",
    "    dummies = pd.get_dummies(df['game_setting'])\n",
    "    df = df.join(dummies)\n",
    "    \n",
    "    df['posteam_is_home'] = (np.where(df['posteam_type'] == 'home', 1 , 0))\n",
    "    \n",
    "    playtype = pd.get_dummies(df['play_type'], prefix= 'pt', drop_first = True )\n",
    "    df = df.join(playtype)\n",
    "    \n",
    "    df['game_half'] = np.where(df['game_half'] == 'Half1', 1, 2)\n",
    "    \n",
    "    df['side_of_field_is_hometeam'] = np.where(df['side_of_field'] == df['home_team'], 1, 0)\n",
    "    \n",
    "    object_cols = ['home_team','away_team' ,'posteam' ,'posteam_type',\n",
    "               'defteam', 'side_of_field','game_date','time','yrdln', 'desc','play_type', 'game_setting']\n",
    "    df = df.drop(columns = object_cols)\n",
    "    return df "
   ]
  },
  {
   "cell_type": "code",
   "execution_count": 12,
   "metadata": {},
   "outputs": [],
   "source": [
    "test_ready = process_data(test)"
   ]
  },
  {
   "cell_type": "code",
   "execution_count": 14,
   "metadata": {},
   "outputs": [],
   "source": [
    "# export processed test df\n",
    "# export_test = test_ready.to_csv('../Data/test_ready.csv', index = False)"
   ]
  },
  {
   "cell_type": "code",
   "execution_count": null,
   "metadata": {},
   "outputs": [],
   "source": []
  },
  {
   "cell_type": "code",
   "execution_count": null,
   "metadata": {},
   "outputs": [],
   "source": []
  }
 ],
 "metadata": {
  "kernelspec": {
   "display_name": "Python 3",
   "language": "python",
   "name": "python3"
  },
  "language_info": {
   "codemirror_mode": {
    "name": "ipython",
    "version": 3
   },
   "file_extension": ".py",
   "mimetype": "text/x-python",
   "name": "python",
   "nbconvert_exporter": "python",
   "pygments_lexer": "ipython3",
   "version": "3.8.5"
  }
 },
 "nbformat": 4,
 "nbformat_minor": 4
}
